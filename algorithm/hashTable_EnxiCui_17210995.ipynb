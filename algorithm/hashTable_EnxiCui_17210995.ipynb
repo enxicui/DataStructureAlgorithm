{
 "cells": [
  {
   "cell_type": "markdown",
   "metadata": {},
   "source": [
    "### Enxi Cui 17210995"
   ]
  },
  {
   "cell_type": "markdown",
   "metadata": {},
   "source": [
    "### Imports"
   ]
  },
  {
   "cell_type": "code",
   "execution_count": 17,
   "metadata": {},
   "outputs": [],
   "source": [
    "import math\n",
    "import unittest\n",
    "from DataStructures import create_airport_list, createAircrafts, Graph\n",
    "import pandas as pd"
   ]
  },
  {
   "cell_type": "markdown",
   "metadata": {},
   "source": [
    "###  Correctness, Speed, Efficiency, Security, Robustness, Clarity, Maintainability\n",
    "- **correctness**: by using the unit tests to test **correctness** of the hash table\n",
    "- **speed and efficiency**: by using the %%time to calculate the **speed** of running these methods, and to show the **efficiency**\n",
    "- **Security**, name mangling was used to make the variables \"private\".\n",
    "- **Robustness** Unit testing to check to robustness\n",
    "- **clarity**: the comments to the code help with the understanding and the **clarity** of these methods, as does the breaking down of the code into many methods.\n",
    "- **maintainability**: the code has been broken into small segments, which is easy to read, change, and modify, and code has been commented.\n"
   ]
  },
  {
   "cell_type": "markdown",
   "metadata": {},
   "source": [
    "### Design\n",
    "**Scalability** & **Flexibility**\n",
    "\n",
    "The hash table has 5832//4 lists, as it fits with the assigned problem well, and anything larger would use extra memory for no benefit to this program. This hash table could be used for other assignments which use an equal or lower amount of data. \n",
    "\n",
    "The reason that I used separate chaining, not a linear probing, is because when deleting, it cannot be left null, and it needs to rehash the cluster to the right of the deleted key.\n",
    "      \n"
   ]
  },
  {
   "cell_type": "markdown",
   "metadata": {},
   "source": [
    "### Code\n",
    "- OOP principle: encapsulation(Getter and Setter)\n",
    "- Clarity: every fuction has comments, and the variable names are easy to understand\n",
    "- Error handling: in the delete part, I add an if not self.isEmpty(), so if it is empty, it will not implement\n"
   ]
  },
  {
   "cell_type": "markdown",
   "metadata": {},
   "source": [
    "I created a separate chaining hash table to put the different airports objects into it, this allows us to easily access the airports for calculating the distance between them, the hash table have 5832//4 lists, the reason why it divided by 4 is just make sure each index of the chain is not too long or too empty"
   ]
  },
  {
   "cell_type": "markdown",
   "metadata": {},
   "source": [
    "### My Hash Table Class"
   ]
  },
  {
   "cell_type": "code",
   "execution_count": 2,
   "metadata": {},
   "outputs": [],
   "source": [
    "\n",
    "class hashTable:\n",
    "#   create a hash table which has 5832//4 lists with empty data and the default size is 0.\n",
    "    def __init__(self):\n",
    "        self.__hash_table = [[] for _ in range(5832//4)]\n",
    "        self.__size = 0\n",
    "        self.__key = []\n",
    "        \n",
    "#   inserting key-value pairs into the hash table “O（n）” \n",
    "    def insert(self, key, value):\n",
    "        #  Determine which hash key should be used\n",
    "        hash_key = hash(key) % len(self.__hash_table)\n",
    "        key_exists = False\n",
    "        bucket = self.__hash_table[hash_key]\n",
    "#  If the key is already present in the hash table, then update its value with the new value.\n",
    "#  Otherwise, insert new key-value pairs into the hash table, and size plus one\n",
    "        for i, kv in enumerate(bucket):\n",
    "            k, v = kv\n",
    "            if key == k:\n",
    "                key_exists = True \n",
    "                break\n",
    "        if key_exists:\n",
    "            bucket[i] = ((key, value))\n",
    "        else:\n",
    "            bucket.append((key, value)) \n",
    "            self.__key += key\n",
    "            self.__size +=1\n",
    "        \n",
    "# search if the keys are in the hash table, if it is present, return the value   O(n)\n",
    "    def search(self, key):\n",
    "        hash_key = hash(key) % len(self.__hash_table)    \n",
    "        bucket = self.__hash_table[hash_key]\n",
    "        for i, kv in enumerate(bucket):\n",
    "            k, v = kv\n",
    "            if key == k:\n",
    "                return v\n",
    "            \n",
    "# use to delete keys     O(n)       \n",
    "    def delete(self, key):\n",
    "        if not self.isEmpty():\n",
    "            hash_key = hash(key) % len(self.__hash_table)    \n",
    "            key_exists = False\n",
    "            bucket = self.__hash_table[hash_key]\n",
    "    # If the key is already in the hash table, then delete that particular key-value pair from the hash \n",
    "    # table, and size minus 1.\n",
    "    # –Otherwise, no operation is done. \n",
    "            for i, kv in enumerate(bucket):\n",
    "                k, v = kv \n",
    "                if key == k: \n",
    "                    key_exists = True \n",
    "                    break\n",
    "            if key_exists:\n",
    "                del bucket[i]         \n",
    "                self.__size -=1\n",
    "                self.__key.remove(key)\n",
    "        \n",
    "# check is the key and value in the hash table  \"O(n)\"        \n",
    "    def contains(self, key):\n",
    "        hash_key = hash(key) % len(self.__hash_table)\n",
    "        bucket = self.__hash_table[hash_key]\n",
    "# If the key is already in the hash table, then return true. Otherwise, return false\n",
    "        for i, kv in enumerate(bucket):\n",
    "            k, v = kv\n",
    "            if key ==k:\n",
    "                 return True\n",
    "        return False\n",
    "    \n",
    "#  O(n^2)   \n",
    "    def keys(self):\n",
    "        \"\"\"\n",
    "        key = []\n",
    "        for i in self.hash_table:\n",
    "            if len(i) != 0:\n",
    "                for j in i:\n",
    "                    key.append(j[0])         \n",
    "        \"\"\"\n",
    "        return self.__key\n",
    "# \"\"\"\n",
    "# originally, keys() used a nested for loop to add the keys, we can now do this in O(1)\n",
    "# instead of O(n^2)\n",
    "# \"\"\"     \n",
    "    \n",
    "# to check if the hash table is empty   O(1)   \n",
    "    def isEmpty(self):\n",
    "        return self.__size == 0\n",
    "\n",
    "# \"\"\"\n",
    "# originally, isEmpty used the for loop to check if it's empty. By optimizing getSize, we can now do this in O(1)\n",
    "# instead of O(n)\n",
    "# \"\"\"  \n",
    "\n",
    "# O(1)    \n",
    "    def getSize(self):   \n",
    "        return self.__size\n",
    "# \"\"\"\n",
    "# originally, getSize use the nested for loop to return the number of keys, we optimized this by storing the \n",
    "# size directly, increasing it and decrease it when we need it to, this means the getSize is now O(1) instead of O(n^2)\n",
    "# \"\"\""
   ]
  },
  {
   "cell_type": "markdown",
   "metadata": {},
   "source": [
    "### Read the Files"
   ]
  },
  {
   "cell_type": "code",
   "execution_count": 4,
   "metadata": {},
   "outputs": [],
   "source": [
    "test_df = pd.read_csv(\"test.csv\")\n",
    "airport_df = pd.read_csv(\"airport.csv\")\n",
    "country_currency_df = pd.read_csv(\"countrycurrency.csv\")\n",
    "currency_rates_df = pd.read_csv(\"currencyrates.csv\")\n",
    "aircraft_df = pd.read_csv(\"aircraft.csv\")\n",
    "airport_currencies_df = airport_df.merge(country_currency_df.rename(columns={\"name\":\"Country\"}), on=\"Country\")\n",
    "merged_df = airport_currencies_df.merge(currency_rates_df.rename(columns={\"CurrencyCode\":\"currency_alphabetic_code\"}), on=\"currency_alphabetic_code\")\n",
    "airports = create_airport_list(merged_df)\n",
    "aircrafts = createAircrafts(aircraft_df)"
   ]
  },
  {
   "cell_type": "code",
   "execution_count": 5,
   "metadata": {},
   "outputs": [],
   "source": [
    "# get the row in the dataframe, with airplanes removed    O(1)\n",
    "def getRoute(test_df, row):  \n",
    "    route = list(test_df.drop(\"Airplane\", axis=1).iloc[row])\n",
    "    return route\n",
    "\n",
    "# add the airports in the route to the graph if it is not there  O(n)\n",
    "def addToAirportAtlas(route, g, airports):\n",
    "    for ap in route:\n",
    "        if not g.containsVertex(ap):\n",
    "            g.insertVertex(ap, airports.search(ap).get_conversion_rate())\n",
    "\n",
    "#add edges between airports to the g raph if not it is not there       O(n^2)   \n",
    "def addAirportDistances(route, g, airports):\n",
    "    for ap in route:\n",
    "        for ap2 in route:\n",
    "            if not g.containsEdge(ap, ap2) and not g.containsEdge(ap2, ap):\n",
    "                g.insertEdge(ap, ap2, airports.search(ap).get_distance(airports.search(ap2)))\n"
   ]
  },
  {
   "cell_type": "markdown",
   "metadata": {},
   "source": [
    "### Unit Test"
   ]
  },
  {
   "cell_type": "code",
   "execution_count": 6,
   "metadata": {},
   "outputs": [
    {
     "name": "stderr",
     "output_type": "stream",
     "text": [
      "test_addAirportDistances (__main__.unit_tests) ... ok\n",
      "test_addToAirportAtlas (__main__.unit_tests) ... ok\n",
      "test_contains (__main__.unit_tests) ... ok\n",
      "test_delete (__main__.unit_tests) ... ok\n",
      "test_getRoute (__main__.unit_tests) ... ok\n",
      "test_insert (__main__.unit_tests) ... ok\n",
      "test_isEmpty (__main__.unit_tests) ... ok\n",
      "test_keys (__main__.unit_tests) ... ok\n",
      "test_size (__main__.unit_tests) ... ok\n",
      "\n",
      "----------------------------------------------------------------------\n",
      "Ran 9 tests in 0.014s\n",
      "\n",
      "OK\n"
     ]
    },
    {
     "data": {
      "text/plain": [
       "'\\n    def test_init(self):\\n        self.hash_table = [[] for _ in range(10)]\\n        hashTable = hash_table()\\n        d = Dict(a=1, b=\\'test\\')\\n        self.assertEquals(d.a, 1)\\n        self.assertEquals(d.b, \\'test\\')\\n        self.assertTrue(isinstance(d, dict)\\n# myAir = Aircraft(\\'238\\', \"imperial\", 1000)\\n# print(myAir)\\n\\n    \\n# print(\"Departing at:\", lhr.get_name()\\n# print(\"Destination:\", dub.get_name())\\n# print(\"Distance:\", lhr.get_distance(dub))\\n# '"
      ]
     },
     "execution_count": 6,
     "metadata": {},
     "output_type": "execute_result"
    }
   ],
   "source": [
    "class unit_tests(unittest.TestCase):\n",
    "  \n",
    "    def test_insert(self):\n",
    "        t = hashTable()\n",
    "        t.insert(\"3\", 3)\n",
    "        self.assertEqual(t.search(\"3\"), 3)  \n",
    "    \n",
    "    def test_delete(self):\n",
    "        t = hashTable()\n",
    "        t.insert('1', 3)\n",
    "        t.insert('2', 3)\n",
    "        t.insert('3', 3)\n",
    "        t.delete('2')\n",
    "        self.assertEqual(t.search(\"2\"), None)\n",
    "\n",
    "    def test_contains(self):\n",
    "        t = hashTable()\n",
    "        self.assertEqual(t.contains(\"2\"), False)\n",
    "        \n",
    "    def test_keys(self):\n",
    "        t = hashTable()\n",
    "        t.insert('1', 3)\n",
    "        t.insert('2', 3)\n",
    "        t.insert('3', 3)\n",
    "        self.assertEqual(t.keys(),[\"1\", \"2\", \"3\"])\n",
    "        \n",
    "    def test_isEmpty(self):\n",
    "        t = hashTable()\n",
    "        self.assertTrue(t.isEmpty())\n",
    "        \n",
    "    def test_size(self): \n",
    "        t = hashTable()\n",
    "        t.insert('1', 3)\n",
    "        t.insert('2', 3)\n",
    "        t.insert('3', 3)\n",
    "        self.assertEqual(t.getSize(),3)\n",
    "        \n",
    "    def test_getRoute(self):\n",
    "        self.assertEqual(getRoute(test_df,1), [\"SNN\", \"ORK\", \"MAN\", \"CDG\", \"SIN\"])\n",
    "                         \n",
    "    def test_addToAirportAtlas(self):\n",
    "        G = Graph()\n",
    "        getroute = getRoute(test_df,1)\n",
    "        addToAirportAtlas(getroute, G, airports)\n",
    "        self.assertEqual(G.getVertices(), [\"SNN\", \"ORK\", \"MAN\", \"CDG\", \"SIN\"])\n",
    "        \n",
    "    def test_addAirportDistances(self):\n",
    "        G = Graph()\n",
    "        getroute = getRoute(test_df,1)\n",
    "        addToAirportAtlas(getroute, G, airports)\n",
    "        addAirportDistances(getroute, G, airports)\n",
    "        self.assertEqual(G.getEdgeCount(), 10)\n",
    "        \n",
    "        \n",
    "unittest.main(argv=[''], verbosity=2, exit=False)\n"
   ]
  },
  {
   "cell_type": "code",
   "execution_count": 7,
   "metadata": {},
   "outputs": [],
   "source": [
    "t = hashTable()\n",
    "t.insert('1', 3)\n",
    "t.insert('2', 3)\n",
    "t.insert('3', 3)\n"
   ]
  },
  {
   "cell_type": "code",
   "execution_count": 8,
   "metadata": {},
   "outputs": [
    {
     "name": "stdout",
     "output_type": "stream",
     "text": [
      "CPU times: user 2 µs, sys: 1 µs, total: 3 µs\n",
      "Wall time: 6.2 µs\n"
     ]
    }
   ],
   "source": [
    "%time\n",
    "t.insert('1', 3)"
   ]
  },
  {
   "cell_type": "code",
   "execution_count": 9,
   "metadata": {},
   "outputs": [
    {
     "name": "stdout",
     "output_type": "stream",
     "text": [
      "CPU times: user 3 µs, sys: 0 ns, total: 3 µs\n",
      "Wall time: 5.25 µs\n"
     ]
    },
    {
     "data": {
      "text/plain": [
       "3"
      ]
     },
     "execution_count": 9,
     "metadata": {},
     "output_type": "execute_result"
    }
   ],
   "source": [
    "%time\n",
    "t.search('1')"
   ]
  },
  {
   "cell_type": "code",
   "execution_count": 10,
   "metadata": {},
   "outputs": [
    {
     "name": "stdout",
     "output_type": "stream",
     "text": [
      "CPU times: user 4 µs, sys: 1e+03 ns, total: 5 µs\n",
      "Wall time: 6.91 µs\n"
     ]
    },
    {
     "data": {
      "text/plain": [
       "True"
      ]
     },
     "execution_count": 10,
     "metadata": {},
     "output_type": "execute_result"
    }
   ],
   "source": [
    "%time\n",
    "t.contains('1')"
   ]
  },
  {
   "cell_type": "code",
   "execution_count": 11,
   "metadata": {},
   "outputs": [
    {
     "name": "stdout",
     "output_type": "stream",
     "text": [
      "CPU times: user 3 µs, sys: 1e+03 ns, total: 4 µs\n",
      "Wall time: 7.15 µs\n"
     ]
    },
    {
     "data": {
      "text/plain": [
       "['1', '2', '3']"
      ]
     },
     "execution_count": 11,
     "metadata": {},
     "output_type": "execute_result"
    }
   ],
   "source": [
    "%time\n",
    "t.keys()"
   ]
  },
  {
   "cell_type": "code",
   "execution_count": 12,
   "metadata": {},
   "outputs": [
    {
     "name": "stdout",
     "output_type": "stream",
     "text": [
      "CPU times: user 3 µs, sys: 1e+03 ns, total: 4 µs\n",
      "Wall time: 4.77 µs\n"
     ]
    },
    {
     "data": {
      "text/plain": [
       "False"
      ]
     },
     "execution_count": 12,
     "metadata": {},
     "output_type": "execute_result"
    }
   ],
   "source": [
    "%time\n",
    "t.isEmpty()"
   ]
  },
  {
   "cell_type": "code",
   "execution_count": 13,
   "metadata": {},
   "outputs": [
    {
     "name": "stdout",
     "output_type": "stream",
     "text": [
      "CPU times: user 2 µs, sys: 0 ns, total: 2 µs\n",
      "Wall time: 6.2 µs\n"
     ]
    },
    {
     "data": {
      "text/plain": [
       "3"
      ]
     },
     "execution_count": 13,
     "metadata": {},
     "output_type": "execute_result"
    }
   ],
   "source": [
    "%time\n",
    "t.getSize()"
   ]
  },
  {
   "cell_type": "markdown",
   "metadata": {},
   "source": [
    "# Compare"
   ]
  },
  {
   "cell_type": "code",
   "execution_count": 14,
   "metadata": {},
   "outputs": [
    {
     "name": "stdout",
     "output_type": "stream",
     "text": [
      "CPU times: user 1.62 ms, sys: 735 µs, total: 2.35 ms\n",
      "Wall time: 2.37 ms\n"
     ]
    }
   ],
   "source": [
    "%%time\n",
    "d = {}\n",
    "\n",
    "for i in range (10000):\n",
    "    d[i] = i"
   ]
  },
  {
   "cell_type": "code",
   "execution_count": 15,
   "metadata": {},
   "outputs": [
    {
     "name": "stdout",
     "output_type": "stream",
     "text": [
      "CPU times: user 31.3 ms, sys: 3.35 ms, total: 34.6 ms\n",
      "Wall time: 35.7 ms\n"
     ]
    }
   ],
   "source": [
    "%%time\n",
    "t = hashTable()\n",
    "for i in range (10000):\n",
    "    key = str(i)\n",
    "    t.insert(key, i)"
   ]
  },
  {
   "cell_type": "markdown",
   "metadata": {},
   "source": [
    "By comparing the hash table I created with Python's inbuilt dictionary, we can see that a dictionary takes less time to add values and keys than a hash table, and as the number of keys and values are created increases, the time is slower, and when the number is large enough, the hash table may take too long to output. \n",
    "\n",
    "I think the main reason why it is much slower than a dictionary is creating a dictionary is Python's built in function, so it must be highly-optimized. \n",
    "\n",
    "But the reason why that I still want to use the hash table is even though it is slower than a dictionary, it still quite fast. In addition, we learned dictionaries last semester, we are familiar with it, and in this module: Data structure and Algorithm, we were introduced to this data structure. Therefore, I wanted to gain a better understanding of how it worked and why it was useful."
   ]
  },
  {
   "cell_type": "markdown",
   "metadata": {},
   "source": [
    "# Summary"
   ]
  },
  {
   "cell_type": "markdown",
   "metadata": {},
   "source": [
    "#### By doing this project, I learned how to create a hash table by using python. I put the Correctness, Speed, Efficiency, Security, Robustness, Clarity, Maintainability of the hash table into consideration. By using unit tests to test correctness, and calculate each function's time, and compare it with Python's inbuilt dictionary. I also tried to figure out how to optimize these methods. I optimized the size, isempty and keys to save CPU time and run faster. The optimized compexity makes the code more efficient. Name mangling was used to make the variables \"private\" to keep it secure. I added comments to the code to help with the understanding and clarity of my work. The code has be broken into small segments, which is easy to read, change and modify. \n",
    "\n",
    "#### Actually, the most difficult thing for me was to create a mindset that breaks down big problems into small ones, because when I just got this project, I was not quite sure what thing should I do first, and thanks to my teammates who helped assign each person's tasks and build a framework, I was able to understand what was required of me, how to go about finishing my part, and how it fit in with the rest of this project."
   ]
  },
  {
   "cell_type": "code",
   "execution_count": null,
   "metadata": {},
   "outputs": [],
   "source": []
  },
  {
   "cell_type": "code",
   "execution_count": null,
   "metadata": {},
   "outputs": [],
   "source": []
  }
 ],
 "metadata": {
  "kernelspec": {
   "display_name": "Python 3",
   "language": "python",
   "name": "python3"
  },
  "language_info": {
   "codemirror_mode": {
    "name": "ipython",
    "version": 3
   },
   "file_extension": ".py",
   "mimetype": "text/x-python",
   "name": "python",
   "nbconvert_exporter": "python",
   "pygments_lexer": "ipython3",
   "version": "3.7.2"
  }
 },
 "nbformat": 4,
 "nbformat_minor": 2
}
